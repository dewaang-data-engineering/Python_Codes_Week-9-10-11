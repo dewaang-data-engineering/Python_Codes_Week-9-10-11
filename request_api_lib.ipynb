{
 "cells": [
  {
   "cell_type": "markdown",
   "id": "dbff11a0",
   "metadata": {},
   "source": [
    "Basic GET Request"
   ]
  },
  {
   "cell_type": "code",
   "execution_count": null,
   "id": "235bdce3",
   "metadata": {
    "vscode": {
     "languageId": "plaintext"
    }
   },
   "outputs": [],
   "source": [
    "import requests\n",
    "\n",
    "response = requests.get(\"https://api.github.com\")\n",
    "print(response.status_code)\n",
    "print(response.json())"
   ]
  },
  {
   "cell_type": "markdown",
   "id": "1ea64b46",
   "metadata": {},
   "source": [
    "POST Request with JSON"
   ]
  },
  {
   "cell_type": "markdown",
   "id": "0e1a1a84",
   "metadata": {},
   "source": [
    "import requests\n",
    "\n",
    "response = requests.get(\"https://api.github.com\")\n",
    "print(response.status_code)\n",
    "print(response.json())\n"
   ]
  },
  {
   "cell_type": "markdown",
   "id": "b36e25dc",
   "metadata": {},
   "source": [
    "GET with Parameters and Headers"
   ]
  },
  {
   "cell_type": "code",
   "execution_count": null,
   "id": "1ec986c9",
   "metadata": {
    "vscode": {
     "languageId": "plaintext"
    }
   },
   "outputs": [],
   "source": [
    "url = \"https://httpbin.org/get\"\n",
    "params = {'page': 2, 'count': 10}\n",
    "headers = {'User-Agent': 'my-app/0.0.1'}\n",
    "\n",
    "res = requests.get(url, params=params, headers=headers)\n",
    "print(res.json())\n"
   ]
  },
  {
   "cell_type": "markdown",
   "id": "10f9ee51",
   "metadata": {},
   "source": [
    "Handling Timeout and Exceptions"
   ]
  },
  {
   "cell_type": "code",
   "execution_count": null,
   "id": "9f5b0f7c",
   "metadata": {
    "vscode": {
     "languageId": "plaintext"
    }
   },
   "outputs": [],
   "source": [
    "import requests\n",
    "\n",
    "try:\n",
    "    res = requests.get(\"https://httpbin.org/delay/5\", timeout=3)\n",
    "    print(res.json())\n",
    "except requests.Timeout:\n",
    "    print(\"Request timed out\")\n",
    "except requests.RequestException as e:\n",
    "    print(\"Error:\", e)\n"
   ]
  }
 ],
 "metadata": {
  "language_info": {
   "name": "python"
  }
 },
 "nbformat": 4,
 "nbformat_minor": 5
}
