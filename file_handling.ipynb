{
 "cells": [
  {
   "cell_type": "markdown",
   "id": "ebfd030f",
   "metadata": {},
   "source": [
    "Writing CSV"
   ]
  },
  {
   "cell_type": "code",
   "execution_count": null,
   "id": "6ba1cc2c",
   "metadata": {
    "vscode": {
     "languageId": "plaintext"
    }
   },
   "outputs": [],
   "source": [
    "import csv\n",
    "\n",
    "data = [\n",
    "    ['Name', 'Age', 'City'],\n",
    "    ['Alice', 30, 'New York'],\n",
    "    ['Bob', 25, 'London']\n",
    "]\n",
    "\n",
    "with open('people.csv', mode='w', newline='') as f:\n",
    "    writer = csv.writer(f)\n",
    "    writer.writerows(data)\n"
   ]
  },
  {
   "cell_type": "markdown",
   "id": "52621409",
   "metadata": {},
   "source": [
    "Reading CSV"
   ]
  },
  {
   "cell_type": "code",
   "execution_count": null,
   "id": "bce3a8b8",
   "metadata": {
    "vscode": {
     "languageId": "plaintext"
    }
   },
   "outputs": [],
   "source": [
    "import csv\n",
    "\n",
    "with open('people.csv', mode='r') as f:\n",
    "    reader = csv.reader(f)\n",
    "    for row in reader:\n",
    "        print(row)\n"
   ]
  },
  {
   "cell_type": "markdown",
   "id": "6992eb6d",
   "metadata": {},
   "source": [
    "CSV with DictWriter and DictReader"
   ]
  },
  {
   "cell_type": "code",
   "execution_count": null,
   "id": "3a7f0f33",
   "metadata": {
    "vscode": {
     "languageId": "plaintext"
    }
   },
   "outputs": [],
   "source": [
    "import csv\n",
    "\n",
    "# Write using DictWriter\n",
    "with open('data_dict.csv', 'w', newline='') as f:\n",
    "    fieldnames = ['id', 'name']\n",
    "    writer = csv.DictWriter(f, fieldnames=fieldnames)\n",
    "    writer.writeheader()\n",
    "    writer.writerow({'id': 1, 'name': 'Alice'})\n",
    "    writer.writerow({'id': 2, 'name': 'Bob'})\n",
    "\n",
    "# Read using DictReader\n",
    "with open('data_dict.csv', 'r') as f:\n",
    "    reader = csv.DictReader(f)\n",
    "    for row in reader:\n",
    "        print(row['id'], row['name'])\n"
   ]
  }
 ],
 "metadata": {
  "language_info": {
   "name": "python"
  }
 },
 "nbformat": 4,
 "nbformat_minor": 5
}
