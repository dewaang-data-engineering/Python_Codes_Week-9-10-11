{
 "cells": [
  {
   "cell_type": "markdown",
   "id": "025ff15f",
   "metadata": {},
   "source": [
    "List Operations"
   ]
  },
  {
   "cell_type": "code",
   "execution_count": null,
   "id": "0337f590",
   "metadata": {
    "vscode": {
     "languageId": "plaintext"
    }
   },
   "outputs": [],
   "source": [
    "fruits = ['apple', 'banana', 'mango']\n",
    "fruits.append('orange')\n",
    "print(fruits)\n",
    "\n",
    "print(fruits[0])        # Access\n",
    "print(fruits[-1])       # Last element\n",
    "fruits[1] = 'kiwi'      # Modify\n",
    "\n",
    "for fruit in fruits:\n",
    "    print(fruit)\n",
    "\n",
    "if 'apple' in fruits:\n",
    "    print(\"Apple is present\")\n",
    "\n",
    "fruits.remove('kiwi')   # Remove\n",
    "print(fruits)\n"
   ]
  },
  {
   "cell_type": "markdown",
   "id": "7e9215df",
   "metadata": {},
   "source": [
    " Dictionary Operations"
   ]
  },
  {
   "cell_type": "code",
   "execution_count": null,
   "id": "84f91eaf",
   "metadata": {
    "vscode": {
     "languageId": "plaintext"
    }
   },
   "outputs": [],
   "source": [
    "student = {'name': 'Bob', 'age': 22, 'grade': 'A'}\n",
    "\n",
    "print(student['name'])\n",
    "student['age'] = 23\n",
    "student['college'] = 'MIT'\n",
    "\n",
    "for key, value in student.items():\n",
    "    print(key, '->', value)\n",
    "\n",
    "del student['grade']\n",
    "print(student)\n"
   ]
  },
  {
   "cell_type": "markdown",
   "id": "0f1c5afd",
   "metadata": {},
   "source": [
    "Tuple & Set"
   ]
  },
  {
   "cell_type": "code",
   "execution_count": null,
   "id": "c9834c33",
   "metadata": {
    "vscode": {
     "languageId": "plaintext"
    }
   },
   "outputs": [],
   "source": [
    "# Tuple - Immutable\n",
    "t = (1, 2, 3)\n",
    "print(t[0])\n",
    "\n",
    "# Set - Unique elements\n",
    "s = {1, 2, 3, 2, 1}\n",
    "s.add(4)\n",
    "s.discard(2)\n",
    "print(s)\n"
   ]
  },
  {
   "cell_type": "markdown",
   "id": "d5a127b8",
   "metadata": {},
   "source": [
    "if-elif-else"
   ]
  },
  {
   "cell_type": "code",
   "execution_count": null,
   "id": "ddc33581",
   "metadata": {},
   "outputs": [],
   "source": [
    "x = 15\n",
    "\n",
    "if x < 10:\n",
    "    print(\"Less than 10\")\n",
    "elif x < 20:\n",
    "    print(\"Between 10 and 20\")\n",
    "else:\n",
    "    print(\"20 or more\")\n"
   ]
  },
  {
   "cell_type": "markdown",
   "id": "c5fdc8ce",
   "metadata": {},
   "source": [
    "while loop"
   ]
  },
  {
   "cell_type": "code",
   "execution_count": null,
   "id": "5dd59720",
   "metadata": {},
   "outputs": [],
   "source": [
    "i = 0\n",
    "while i < 5:\n",
    "    print(i)\n",
    "    i += 1\n"
   ]
  },
  {
   "cell_type": "markdown",
   "id": "651ede15",
   "metadata": {},
   "source": [
    "for loop"
   ]
  },
  {
   "cell_type": "code",
   "execution_count": null,
   "id": "65a91262",
   "metadata": {},
   "outputs": [],
   "source": [
    "for i in range(5):\n",
    "    print(\"Index:\", i)\n",
    "\n",
    "names = [\"A\", \"B\", \"C\"]\n",
    "for name in names:\n",
    "    print(name)\n"
   ]
  },
  {
   "cell_type": "markdown",
   "id": "5ddda76b",
   "metadata": {},
   "source": [
    "Functions (with and without return)"
   ]
  },
  {
   "cell_type": "code",
   "execution_count": null,
   "id": "dcd4e8a3",
   "metadata": {},
   "outputs": [],
   "source": [
    "def greet(name):\n",
    "    print(\"Hello\", name)\n",
    "\n",
    "def add(a, b):\n",
    "    return a + b\n",
    "\n",
    "greet(\"Alice\")\n",
    "sum_result = add(5, 3)\n",
    "print(\"Sum:\", sum_result)\n"
   ]
  },
  {
   "cell_type": "markdown",
   "id": "14457a1b",
   "metadata": {},
   "source": [
    "Taking Input from User"
   ]
  },
  {
   "cell_type": "code",
   "execution_count": null,
   "id": "fbbf66c9",
   "metadata": {},
   "outputs": [],
   "source": [
    "name = input(\"Enter your name: \")\n",
    "age = int(input(\"Enter your age: \"))\n",
    "\n",
    "print(f\"Hello {name}, you are {age} years old.\")\n"
   ]
  },
  {
   "cell_type": "markdown",
   "id": "13e7ff7f",
   "metadata": {},
   "source": [
    "String Operations"
   ]
  },
  {
   "cell_type": "code",
   "execution_count": null,
   "id": "25f6e532",
   "metadata": {},
   "outputs": [],
   "source": [
    "s = \"hello world\"\n",
    "\n",
    "print(s.upper())\n",
    "print(s.capitalize())\n",
    "print(s.replace(\"world\", \"Python\"))\n",
    "print(s.split())\n",
    "print(len(s))\n"
   ]
  },
  {
   "cell_type": "markdown",
   "id": "d9f90c74",
   "metadata": {},
   "source": [
    "Basic Error Handling (try-except)"
   ]
  },
  {
   "cell_type": "code",
   "execution_count": null,
   "id": "fa4e603a",
   "metadata": {},
   "outputs": [],
   "source": [
    "try:\n",
    "    num = int(input(\"Enter a number: \"))\n",
    "    print(\"You entered:\", num)\n",
    "except ValueError:\n",
    "    print(\"That's not a valid number!\")\n"
   ]
  },
  {
   "cell_type": "markdown",
   "id": "d7efeb41",
   "metadata": {},
   "source": [
    "Enumerate and Zip"
   ]
  },
  {
   "cell_type": "code",
   "execution_count": null,
   "id": "eee5be33",
   "metadata": {},
   "outputs": [],
   "source": [
    "# enumerate\n",
    "colors = ['red', 'green', 'blue']\n",
    "for idx, color in enumerate(colors):\n",
    "    print(idx, color)\n",
    "\n",
    "# zip\n",
    "names = ['Alice', 'Bob']\n",
    "ages = [25, 30]\n",
    "for name, age in zip(names, ages):\n",
    "    print(f\"{name} is {age} years old.\")\n"
   ]
  },
  {
   "cell_type": "markdown",
   "id": "99e62922",
   "metadata": {},
   "source": [
    "List Comprehension"
   ]
  },
  {
   "cell_type": "markdown",
   "id": "842672cd",
   "metadata": {
    "vscode": {
     "languageId": "plaintext"
    }
   },
   "source": [
    "[expression for item in iterable if condition]\n"
   ]
  },
  {
   "cell_type": "code",
   "execution_count": null,
   "id": "3c7f66d9",
   "metadata": {},
   "outputs": [],
   "source": [
    "squares = [x**2 for x in range(5)]\n",
    "print(squares)\n"
   ]
  },
  {
   "cell_type": "code",
   "execution_count": null,
   "id": "f82b394b",
   "metadata": {},
   "outputs": [],
   "source": [
    "labels = [\"even\" if x % 2 == 0 else \"odd\" for x in range(10)]"
   ]
  },
  {
   "cell_type": "code",
   "execution_count": null,
   "id": "a967862b",
   "metadata": {},
   "outputs": [],
   "source": [
    "nums = [3, -4, 5, -2, 0]\n",
    "fixed = [x if x > 0 else 0 for x in nums]"
   ]
  },
  {
   "cell_type": "code",
   "execution_count": null,
   "id": "c2216d58",
   "metadata": {},
   "outputs": [],
   "source": [
    "nums = [3, -4, 5, -2, 0]\n",
    "fixed = [x if x > 0 else 0 for x in nums]\n"
   ]
  }
 ],
 "metadata": {
  "language_info": {
   "name": "python"
  }
 },
 "nbformat": 4,
 "nbformat_minor": 5
}
