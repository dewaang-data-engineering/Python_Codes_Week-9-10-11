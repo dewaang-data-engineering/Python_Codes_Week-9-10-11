{
 "cells": [
  {
   "cell_type": "markdown",
   "id": "68b19925",
   "metadata": {},
   "source": [
    "class, objects and constructors"
   ]
  },
  {
   "cell_type": "code",
   "execution_count": null,
   "id": "cf8a8554",
   "metadata": {
    "vscode": {
     "languageId": "plaintext"
    }
   },
   "outputs": [],
   "source": [
    "class Person:\n",
    "    def __init__(self, name, age):\n",
    "        self.name = name\n",
    "        self.age = age\n",
    "\n",
    "    def greet(self):\n",
    "        return f\"Hello, I'm {self.name} and I'm {self.age} years old.\"\n",
    "\n",
    "p1 = Person(\"Alice\", 30)\n",
    "print(p1.greet())\n"
   ]
  },
  {
   "cell_type": "markdown",
   "id": "87461353",
   "metadata": {},
   "source": [
    "Inheritance, Method Overriding"
   ]
  },
  {
   "cell_type": "code",
   "execution_count": null,
   "id": "181acca9",
   "metadata": {
    "vscode": {
     "languageId": "plaintext"
    }
   },
   "outputs": [],
   "source": [
    "class Animal:\n",
    "    def speak(self):\n",
    "        return \"Animal sound\"\n",
    "\n",
    "class Dog(Animal):\n",
    "    def speak(self):\n",
    "        return \"Bark\"\n",
    "\n",
    "a = Animal()\n",
    "d = Dog()\n",
    "print(a.speak())  # Animal sound\n",
    "print(d.speak())  # Bark\n"
   ]
  },
  {
   "cell_type": "markdown",
   "id": "a082bf2f",
   "metadata": {},
   "source": [
    "Encapsulation (Private variables)"
   ]
  },
  {
   "cell_type": "code",
   "execution_count": null,
   "id": "e18af52c",
   "metadata": {
    "vscode": {
     "languageId": "plaintext"
    }
   },
   "outputs": [],
   "source": [
    "class BankAccount:\n",
    "    def __init__(self, balance):\n",
    "        self.__balance = balance  # private variable\n",
    "\n",
    "    def deposit(self, amount):\n",
    "        self.__balance += amount\n",
    "\n",
    "    def get_balance(self):\n",
    "        return self.__balance\n",
    "\n",
    "acc = BankAccount(1000)\n",
    "acc.deposit(500)\n",
    "print(acc.get_balance())  # 1500\n"
   ]
  },
  {
   "cell_type": "markdown",
   "id": "cedc6505",
   "metadata": {},
   "source": [
    " Polymorphism"
   ]
  },
  {
   "cell_type": "code",
   "execution_count": null,
   "id": "884763d5",
   "metadata": {
    "vscode": {
     "languageId": "plaintext"
    }
   },
   "outputs": [],
   "source": [
    "class Bird:\n",
    "    def fly(self):\n",
    "        return \"Flying\"\n",
    "\n",
    "class Sparrow(Bird):\n",
    "    def fly(self):\n",
    "        return \"Sparrow flying low\"\n",
    "\n",
    "class Eagle(Bird):\n",
    "    def fly(self):\n",
    "        return \"Eagle flying high\"\n",
    "\n",
    "birds = [Sparrow(), Eagle()]\n",
    "for bird in birds:\n",
    "    print(bird.fly())\n"
   ]
  },
  {
   "cell_type": "markdown",
   "id": "28429360",
   "metadata": {},
   "source": [
    "Abstraction"
   ]
  },
  {
   "cell_type": "code",
   "execution_count": null,
   "id": "636f7273",
   "metadata": {
    "vscode": {
     "languageId": "plaintext"
    }
   },
   "outputs": [],
   "source": [
    "from abc import ABC, abstractmethod\n",
    "\n",
    "class Shape(ABC):\n",
    "    @abstractmethod\n",
    "    def area(self):\n",
    "        pass\n",
    "\n",
    "class Circle(Shape):\n",
    "    def __init__(self, r):\n",
    "        self.r = r\n",
    "\n",
    "    def area(self):\n",
    "        return 3.14 * self.r * self.r\n",
    "\n",
    "c = Circle(5)\n",
    "print(c.area())\n"
   ]
  },
  {
   "cell_type": "markdown",
   "id": "2b10baa7",
   "metadata": {},
   "source": [
    "Logging & Monitoring"
   ]
  },
  {
   "cell_type": "code",
   "execution_count": null,
   "id": "61a14fe2",
   "metadata": {
    "vscode": {
     "languageId": "plaintext"
    }
   },
   "outputs": [],
   "source": [
    "import logging\n",
    "\n",
    "logging.basicConfig(level=logging.INFO)\n",
    "logging.info(\"Starting application...\")\n",
    "logging.warning(\"This is a warning!\")\n",
    "logging.error(\"Something went wrong.\")\n"
   ]
  },
  {
   "cell_type": "markdown",
   "id": "f08d98a5",
   "metadata": {},
   "source": [
    "Logging to a File with Format"
   ]
  },
  {
   "cell_type": "code",
   "execution_count": null,
   "id": "74cb02a5",
   "metadata": {
    "vscode": {
     "languageId": "plaintext"
    }
   },
   "outputs": [],
   "source": [
    "import logging\n",
    "\n",
    "logging.basicConfig(filename='app.log', level=logging.DEBUG,\n",
    "                    format='%(asctime)s:%(levelname)s:%(message)s')\n",
    "\n",
    "logging.debug(\"Debug message\")\n",
    "logging.info(\"Info message\")\n",
    "logging.warning(\"Warning message\")\n",
    "logging.error(\"Error message\")\n"
   ]
  },
  {
   "cell_type": "markdown",
   "id": "bee3ee1c",
   "metadata": {},
   "source": [
    "Custom Logger with Multiple Handlers"
   ]
  },
  {
   "cell_type": "code",
   "execution_count": null,
   "id": "39cb66c2",
   "metadata": {
    "vscode": {
     "languageId": "plaintext"
    }
   },
   "outputs": [],
   "source": [
    "logger = logging.getLogger(\"my_logger\")\n",
    "logger.setLevel(logging.DEBUG)\n",
    "\n",
    "# Console Handler\n",
    "ch = logging.StreamHandler()\n",
    "ch.setLevel(logging.INFO)\n",
    "\n",
    "# File Handler\n",
    "fh = logging.FileHandler(\"multi_handler.log\")\n",
    "fh.setLevel(logging.DEBUG)\n",
    "\n",
    "formatter = logging.Formatter('%(asctime)s - %(name)s - %(levelname)s - %(message)s')\n",
    "ch.setFormatter(formatter)\n",
    "fh.setFormatter(formatter)\n",
    "\n",
    "logger.addHandler(ch)\n",
    "logger.addHandler(fh)\n",
    "\n",
    "logger.info(\"Info to console and file\")\n",
    "logger.debug(\"Debug to file only\")\n"
   ]
  }
 ],
 "metadata": {
  "language_info": {
   "name": "python"
  }
 },
 "nbformat": 4,
 "nbformat_minor": 5
}
